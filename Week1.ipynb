{
 "cells": [
  {
   "cell_type": "code",
   "execution_count": 1,
   "id": "835d18b1",
   "metadata": {},
   "outputs": [],
   "source": [
    "import math\n",
    "import numpy as np\n",
    "import matplotlib.pyplot as plt"
   ]
  },
  {
   "attachments": {
    "image.png": {
     "image/png": "[encoded data removed]"
    }
   },
   "cell_type": "markdown",
   "id": "3b0ece9d",
   "metadata": {},
   "source": [
    "#### 1.1 - Infant birth weight\n",
    "\n",
    "Because the exam is Pen and Paper. I will in the feature after E1.1 only use code to confirm that I have calculated correctly.\n",
    "\n",
    "![image.png](attachment:image.png)\n",
    "\n",
    "##### a) - What is the sample mean, variance and standard deviation of the female birth?\n",
    "\n",
    "Sample mean formula:\n",
    "\n",
    "$$\\bar{x} = \\frac{1}{n} \\sum^{n}_{i=1} x_i$$\n",
    "\n",
    "Calculating the sum\n",
    "$$\\sum^{n}_{i=1} x_i = 33613$$\n",
    "\n",
    "Multiplying the sum into the fraction and calculates the mean. \n",
    "n is the number of values in the dataset. In this case n = 10\n",
    "\n",
    "$$\\bar{x} = \\frac{1}{10} * 33613= \\frac{33613}{10} = 3361,3$$"
   ]
  },
  {
   "cell_type": "code",
   "execution_count": 2,
   "id": "3a2e7c30",
   "metadata": {},
   "outputs": [
    {
     "name": "stdout",
     "output_type": "stream",
     "text": [
      "Female Mean: 3361.3\n",
      "Control Female Mean: 3361.3\n"
     ]
    }
   ],
   "source": [
    "# Calculating manual the sample mean\n",
    "female_birth_weight = np.array([2474, 2547, 2830, 3219, 3429, 3448, 3677, 3872, 4001, 4116])\n",
    "female_sum = female_birth_weight.sum()\n",
    "female_mean = np.divide(female_sum, len(female_birth_weight))\n",
    "print(f'Female Mean: {female_mean}')\n",
    "\n",
    "#Control\n",
    "print(f'Control Female Mean: {np.mean(female_birth_weight)}')"
   ]
  },
  {
   "cell_type": "markdown",
   "id": "87fd7214",
   "metadata": {},
   "source": [
    "Sample variance formula:\n",
    "$$s^2 = \\frac{1}{n-1} \\sum^{n}_{i=1} (x_i - \\bar{x})^2$$\n",
    "\n",
    "We start calculating the sum part of the formula. We know from earlier that the mean is \\bar{x} = 3361,3\n",
    "\n",
    "$$\\sum^{n}_{i=1} (x_i - \\bar{x})^2 = 3104284,1$$\n",
    "\n",
    "To calculate the Variance we now have to calculate the fraction part of the formula. n = 10 See below:\n",
    "\n",
    "$$n=10$$\n",
    "$$s^2 = \\frac{1}{10-1} * 3104284,1 = \\frac{3104284,1}{9} = 344920,45$$\n",
    "\n"
   ]
  },
  {
   "cell_type": "code",
   "execution_count": 3,
   "id": "dfb48ac6",
   "metadata": {},
   "outputs": [
    {
     "name": "stdout",
     "output_type": "stream",
     "text": [
      "Female Variance: 344920.4555555556\n",
      "Control Female Variance: 344920.4555555556\n"
     ]
    }
   ],
   "source": [
    "# Calculating manuel the variance formula\n",
    "a = np.sum((female_birth_weight - female_mean)**2)\n",
    "female_variance = np.divide(a, len(female_birth_weight) - 1)\n",
    "\n",
    "print(f'Female Variance: {female_variance}')\n",
    "print(f'Control Female Variance: {np.var(female_birth_weight, ddof=1)}')"
   ]
  },
  {
   "cell_type": "markdown",
   "id": "9af94a94",
   "metadata": {},
   "source": [
    "Standard Deviation Formula:\n",
    "$$s = \\sqrt{s^2} = \\sqrt{\\frac{1}{n-1} \\sum^{n}_{i=1} (x_i - \\bar{x})^2}$$\n",
    "\n",
    "The Standard Deviation can be calculated by sqrt the variance.\n",
    "\n",
    "$$s = \\sqrt{344920,45} = 587,29$$"
   ]
  },
  {
   "cell_type": "code",
   "execution_count": 4,
   "id": "388ac7d7",
   "metadata": {},
   "outputs": [
    {
     "name": "stdout",
     "output_type": "stream",
     "text": [
      "Female Standard Deviation: 587.2992895922449\n",
      "Control Female Standard Devision: 587.2992895922449\n"
     ]
    }
   ],
   "source": [
    "# Calculating manuel the standard deviation\n",
    "female_standard_deviation = np.sqrt(female_variance)\n",
    "\n",
    "print(f'Female Standard Deviation: {female_standard_deviation}')\n",
    "print(f'Control Female Standard Devision: {np.std(female_birth_weight, ddof=1)}')"
   ]
  },
  {
   "cell_type": "markdown",
   "id": "47f68dfa",
   "metadata": {},
   "source": [
    "- Express in your own words the story told by these numbers?\n",
    "\n",
    "Answer:\n",
    "\n",
    "We see that the average female birth weight is 3361.3 gram. The high variance at 344920 tell us that the data is spread. The standard deviation at 587.3 tells us that most babies weight fall within 587.3 plus and minus of the mean\n",
    "\n",
    "$$ \\pm 587.3"
   ]
  },
  {
   "cell_type": "markdown",
   "id": "bcc200e8",
   "metadata": {},
   "source": [
    "##### b) - Compute the same summary statistic of the male births. Compare and explain the differences with the results for the female birth\n",
    "\n",
    "I will use the same formulas, so I wont be repeating them"
   ]
  },
  {
   "cell_type": "code",
   "execution_count": 5,
   "id": "ce489c60",
   "metadata": {},
   "outputs": [
    {
     "name": "stdout",
     "output_type": "stream",
     "text": [
      "Male Mean: 3475.2\n",
      "Male Variance: 283158.1777777777\n",
      "Male Standard Deviation: 532.1260919911537\n",
      "Female Mean: 3361.3\n",
      "Female Variance: 344920.4555555556\n",
      "Female Standard Deviation: 587.2992895922449\n"
     ]
    }
   ],
   "source": [
    "male_birth_weight = np.array([2844, 2863, 2963, 3239, 3379, 3449, 3582, 3926, 4151, 4356])\n",
    "\n",
    "male_mean = np.mean(male_birth_weight)\n",
    "male_variance = np.var(male_birth_weight, ddof=1)\n",
    "male_standard_devision =  np.std(male_birth_weight, ddof=1)\n",
    "\n",
    "# Male Values\n",
    "print(f'Male Mean: {male_mean}')\n",
    "print(f'Male Variance: {male_variance}')\n",
    "print(f'Male Standard Deviation: {male_standard_devision}')\n",
    "\n",
    "# Female Values\n",
    "print(f'Female Mean: {female_mean}')\n",
    "print(f'Female Variance: {female_variance}')\n",
    "print(f'Female Standard Deviation: {female_standard_deviation}')"
   ]
  },
  {
   "cell_type": "markdown",
   "id": "e771ceda",
   "metadata": {},
   "source": [
    "The male birth weights are on average a little higher than the female, while the standard deviation is a little smaller."
   ]
  },
  {
   "cell_type": "markdown",
   "id": "fcae5c50",
   "metadata": {},
   "source": [
    "##### C) Find the five quartiles for each sample -- and draw the two box plots with pen and paper (Sorry!)\n",
    "\n",
    "The five quartiles are $$Q_0 = minimum, Q_1 = 25\\%, Q_2 = median, Q_3 = 75\\%, Q_4 = maximum$$\n",
    "\n",
    "Minimum and maximum can we find by looking at the first and last unit in the data. \n",
    "\n",
    "To calculate the Q_1 and Q_3 we can use the following formula:\n",
    "\n",
    "*if pn is an integer*\n",
    "\n",
    "$$q_p = (x_{np} + x_{np+1}) / 2$$\n",
    "\n",
    "*if pn is a non-integer*\n",
    "\n",
    "$$q_p = x_{\\lceil np \\rceil}$$\n",
    "\n",
    "To find Q_2 we use the median formula:\n",
    "\n",
    "*if n is odd the median*\n",
    "\n",
    "$$Q_2 = x_{\\frac{n+1}{2}}$$\n",
    "\n",
    "*if n is even*\n",
    "\n",
    "$$Q_2 = \\frac{x_{\\frac{n}{2}} + x_{\\frac{n+2}{2}}}{2}$$"
   ]
  },
  {
   "cell_type": "code",
   "execution_count": 6,
   "id": "4e33db04",
   "metadata": {},
   "outputs": [
    {
     "name": "stdout",
     "output_type": "stream",
     "text": [
      "Female - Q_0: 2474, Q_1: 2830, Q_2: 3438.5, Q_3: 3872, Q_4: 4116\n",
      "Male - Q_0: 2844, Q_1: 2963, Q_2: 3414.0, Q_3: 3926, Q_4: 4356\n"
     ]
    },
    {
     "data": {
      "image/png": "[encoded data removed]",
      "text/plain": [
       "<Figure size 640x480 with 1 Axes>"
      ]
     },
     "metadata": {},
     "output_type": "display_data"
    }
   ],
   "source": [
    "# Calculating Q_1, Q_2 and Q_3 (manuel with code)\n",
    "\n",
    "female_n = len(female_birth_weight)\n",
    "male_n = len(male_birth_weight)\n",
    "\n",
    "# Finding Q_1 for female\n",
    "female_pn = 0.25 * female_n #2.5 not a integer\n",
    "female_pn = math.ceil(female_pn) # Ceil to 3\n",
    "\n",
    "female_Q_1 = female_birth_weight[female_pn - 1]\n",
    "\n",
    "# Finding Q_2 for female (n_female is even 10) REMEMBER THAT WE INDEX FROM 0. SO THE RESULTS SHOULD BE 5 and 6, BUT I NEED TO APPLY -1\n",
    "female_Q_2 = np.divide(female_birth_weight[5 - 1] + female_birth_weight[6 - 1], 2)\n",
    "\n",
    "# Finding Q_3 for female\n",
    "female_pn = 0.75 * female_n # 7.5 not a integer\n",
    "female_pn = math.ceil(female_pn) # Ceil to 8\n",
    "\n",
    "Q_3_female = female_birth_weight[female_pn - 1]\n",
    "\n",
    "print(f'Female - Q_0: {np.min(female_birth_weight)}, Q_1: {female_Q_1}, Q_2: {female_Q_2}, Q_3: {Q_3_female}, Q_4: {np.max(female_birth_weight)}')\n",
    "\n",
    "# Finding Q_1 for males\n",
    "male_pn = 0.25 * male_n #2.5 not a integer\n",
    "male_pn = math.ceil(male_pn) # Ceil to 3\n",
    "\n",
    "male_Q_1 = male_birth_weight[male_pn - 1]\n",
    "\n",
    "# Finding Q_2 for male (n_male is 10. Thats a even number)\n",
    "male_Q_2 = np.divide(male_birth_weight[5 - 1] + male_birth_weight[6 - 1], 2)\n",
    "\n",
    "# Finding Q_3 for male\n",
    "male_pn = 0.75 * male_n # 7.5 not a integer\n",
    "male_pn = math.ceil(male_pn) # Cetil to 8\n",
    "\n",
    "Q_3_male = male_birth_weight[male_pn - 1]\n",
    "\n",
    "print(f'Male - Q_0: {np.min(male_birth_weight)}, Q_1: {male_Q_1}, Q_2: {male_Q_2}, Q_3: {Q_3_male}, Q_4: {np.max(male_birth_weight)}')\n",
    "\n",
    "# Creating the two default box plots (modified boxplots are the default in plt)\n",
    "plt.boxplot([female_birth_weight, male_birth_weight])\n",
    "plt.title('Modified Box Plots')\n",
    "plt.show()"
   ]
  },
  {
   "cell_type": "markdown",
   "id": "9e2c5313",
   "metadata": {},
   "source": [
    "##### d) Are there any \"extreme\" observations in the two samples (use the modified box plot definition of extremeness)?\n",
    "\n",
    "No. Since we use the standard modified boxplot, we would see the extreme observation beyond the whiskers (minimum and maximum). In this case we see none."
   ]
  },
  {
   "cell_type": "markdown",
   "id": "7caa0c99",
   "metadata": {},
   "source": [
    "##### e) What are the coefficient of variations in the two groups?\n",
    "\n",
    "To find the coefficient of variation of the two groups, we use the following formula:\n",
    "\n",
    "Coefficient of variation:\n",
    "$$CV = \\frac{s}{\\bar{x}}$$\n",
    "\n",
    "$$s\\;(sample\\;standard\\;deviation)$$\n",
    "$$\\bar{x}\\;(sample\\;mean)$$\n",
    "\n",
    "Later in the exercise did we calculate the standard deviation and mean for both female and male. We multiply with 100 to get the result in procent, as that is normally how the calculation of CV is represented.\n",
    "\n",
    "$$CV_{female} = \\frac{587,29}{3361,3} \\cdot 100 = 17,47\\%$$\n",
    "$$CV_{male} = \\frac{587,29}{3361,3} \\cdot 100 = 15,31\\%$$"
   ]
  },
  {
   "cell_type": "code",
   "execution_count": 7,
   "id": "fdae71a0",
   "metadata": {},
   "outputs": [
    {
     "name": "stdout",
     "output_type": "stream",
     "text": [
      "Female CV in %: 17.472385374475497\n",
      "Male CV ion %: 15.312099792563124\n"
     ]
    }
   ],
   "source": [
    "# Calculation Coefficient of Variation\n",
    "female_CV = np.divide(female_standard_deviation, female_mean) * 100\n",
    "male_CV = np.divide(male_standard_devision, male_mean) * 100\n",
    "\n",
    "print(f'Female CV in %: {female_CV}')\n",
    "print(f'Male CV ion %: {male_CV}')"
   ]
  },
  {
   "cell_type": "markdown",
   "id": "892482a0",
   "metadata": {},
   "source": [
    "The smaller the coefficent variation the tighter the data is to the mean. In this case we get 17.47% for female and 15.31% for male, which indicates that the data is close to the mean for both female and male. "
   ]
  },
  {
   "attachments": {
    "image.png": {
     "image/png": "[encoded data removed]"
    }
   },
   "cell_type": "markdown",
   "id": "bf960163",
   "metadata": {},
   "source": [
    "#### 1.2 - Course Grades\n",
    "\n",
    "##### a) What is the median of the 251 achieved grades?\n",
    "\n",
    "![image.png](attachment:image.png)\n",
    "\n",
    "In this example we cannot find the median with our \"traditional\" way using the formula, we used in E1.1 because of the structure of the data (cannot remember the correct name for this type of data). We have to find the median with logic and observation.\n",
    "\n",
    "If we look at the 251 grades from the buttom and up from the total column, every grade is sorted from small to larger until grade 10 with 28.\n",
    "\n",
    "If we take the total and divides it with 2 and ceil the result we get\n",
    "\n",
    "$$a = \\frac{251}{2} = \\lceil 125,5 \\rceil = 126th$$\n",
    "\n",
    "This is the middle part of the data based on the total grades. If we count from grade -3, 0 and 2. We get a total of\n",
    "\n",
    "$$grades_{lower} = 32 + 33 + 39 = 104$$\n",
    "\n",
    "Since grade 4 is 42, we know that the 126th element is inside the grade 4 count and therefore is grade 4 the median for this data\n",
    "\n",
    "\n",
    "\n"
   ]
  },
  {
   "cell_type": "markdown",
   "id": "b2921723",
   "metadata": {},
   "source": [
    "##### b) What are the quartiles and the IQR (Inter Quartile Range)?\n",
    "\n",
    "To calculate Q_1 we start of by calculating the pn. If the pn is not an integer, we will use ceil.\n",
    "\n",
    "$$pn = 0,25 \\cdot 251 = \\lceil 62,75 \\rceil = 63$$\n",
    "\n",
    "This mean that Q_1 is the 63th grade. Going from the buttom and up, we can see that 63th is grade 0. Therefore Q_1 is\n",
    "\n",
    "$$Q_1 = Grade\\;0$$\n",
    "\n",
    "We then do the same for Q_3\n",
    "\n",
    "$$pn = 0,75 \\cdot 251 =  \\lceil 188,25 \\rceil = 189$$\n",
    "\n",
    "The 189th grade is grade 7 counting from the buttom and up. Therefore\n",
    "\n",
    "$$Q_3 = Grade\\;7$$\n",
    "\n",
    "The formula to calculate the IQR is:\n",
    "\n",
    "$$IQR = q_{0,75} - q_{0,25} = Q_3 - Q_1$$\n",
    "\n",
    "Since we know Q_3 and Q_1, we only need to use the formula\n",
    "\n",
    "$$IQR = 7 - 0 = 7$$"
   ]
  },
  {
   "attachments": {
    "image.png": {
     "image/png": "[encoded data removed]"
    }
   },
   "cell_type": "markdown",
   "id": "2f035555",
   "metadata": {},
   "source": [
    "#### 1.3 - Cholesterol\n",
    "\n",
    "![image.png](attachment:image.png)\n",
    "\n",
    "##### a) What is the median of the cholesterol measurements for the patients before treatment, and similary after treatment\n",
    "\n",
    "Before we can start to determine the median of the dataset, we have to sort them from small to large. I will use python for this. (A bit of cheeesy cheating HIHI)\n",
    "\n",
    "$$PatientBefore_{sorted} = [7.1, 7.3, 7.7, 7.9, 8.0, 8.2, 8.3, 8.5, 9.0, 9.1, 9.2, 9.5, 9.6, 9.6, 10.0]$$\n",
    "$$PatientAfter_{sorted} = [5.8, 6.0, 6.4, 6.6, 6.6, 6.7, 7.1, 7.2, 7.7, 7.8, 8.0, 8.2, 8.4, 8.5, 9.8]$$\n",
    "\n",
    "To find the median (also known as Q_2) we will use the following formula and rules:\n",
    "\n",
    "*if n is odd the median*\n",
    "\n",
    "$$Q_2 = x_{\\frac{n+1}{2}}$$\n",
    "\n",
    "*if n is even*\n",
    "\n",
    "$$Q_2 = \\frac{x_{\\frac{n}{2}} + x_{\\frac{n+2}{2}}}{2}$$\n",
    "\n",
    "Since n is odd, we will use formula 1 for both before and after dataset:\n",
    "\n",
    "$$n=15$$\n",
    "$$Q2_{before} = x_{\\frac{15+1}{2}} = x_{8} = 8.5$$\n",
    "$$Q2_{after} = x_{\\frac{15+1}{2}} = x_{8} = 7.2$$"
   ]
  },
  {
   "cell_type": "code",
   "execution_count": 8,
   "id": "ef9f881c",
   "metadata": {},
   "outputs": [
    {
     "name": "stdout",
     "output_type": "stream",
     "text": [
      "Patient Sorted Before: [ 7.1  7.3  7.7  7.9  8.   8.2  8.3  8.5  9.   9.1  9.2  9.5  9.6  9.6\n",
      " 10. ]\n",
      "Patient Sorted After: [5.8 6.  6.4 6.6 6.6 6.7 7.1 7.2 7.7 7.8 8.  8.2 8.4 8.5 9.8]\n"
     ]
    }
   ],
   "source": [
    "patient_before = np.array([9.1, 8.0, 7.7, 10.0, 9.6, 7.9, 9.0, 7.1, 8.3, 9.6, 8.2, 9.2, 7.3, 8.5, 9.5])\n",
    "patient_after = np.array([8.2, 6.4, 6.6, 8.5, 8.0, 5.8, 7.8, 7.2, 6.7, 9.8, 7.1, 7.7, 6.0, 6.6, 8.4])\n",
    "\n",
    "patient_before_sorted = np.sort(patient_before)\n",
    "patient_after_sorted = np.sort(patient_after)\n",
    "\n",
    "print(f'Patient Sorted Before: {patient_before_sorted}')\n",
    "print(f'Patient Sorted After: {patient_after_sorted}')"
   ]
  },
  {
   "cell_type": "markdown",
   "id": "6d64d426",
   "metadata": {},
   "source": [
    "##### b) Find the standard deviations of the cholesterol measurements of the patients before and after treathment\n",
    "\n",
    "To find the standard deviation we need to calculate the mean and variance of the data for before and after.\n",
    "\n",
    "$$\\bar{x} = \\frac{1}{n} \\sum^{n}_{i=1} x_i$$\n",
    "$$n=15$$\n",
    "\n",
    "Calculate mean of before:\n",
    "\n",
    "$$\\sum^{15}_{i=1} x_i = 129$$\n",
    "\n",
    "$$\\bar{x}_{before} = \\frac{1}{15} \\cdot 129 = \\frac{129}{15} = 8.6$$\n",
    "\n",
    "Calculate mean of after:\n",
    "\n",
    "$$\\sum^{15}_{i=1} x_i = 110.80$$\n",
    "\n",
    "$$\\bar{x}_{after} = \\frac{1}{15} \\cdot 110.80 = \\frac{110.80}{15} = 7.38$$\n",
    "\n",
    "Now we need to calculate the variance. See the formula:\n",
    "\n",
    "$$s^2 = \\frac{1}{n-1} \\sum^{n}_{i=1} (x_i - \\bar{x})^2$$\n",
    "\n",
    "Starting with the before and after variance:\n",
    "\n",
    "$$\\sum^{15}_{i=1} (x_i - 8.6)^2 = 11.3999$$\n",
    "\n",
    "$$s^{2}_{before} = \\frac{1}{15-1} \\cdot 11.3999 = \\frac{11.3999}{14} = 0.8142$$\n",
    "\n",
    "$$\\sum^{15}_{i=1} (x_i - 7.38)^2 = 16.6380$$\n",
    "\n",
    "$$s^{2}_{after} = \\frac{1}{15-1} \\cdot 16.6380 = \\frac{16.6380}{14} = 1.1884$$\n",
    "\n",
    "Calculating the standard deviation for after and before using the following formula:\n",
    "\n",
    "$$s = \\sqrt{s^2} = \\sqrt{\\frac{1}{n-1} \\sum^{n}_{i=1} (x_i - \\bar{x})^2}$$\n",
    "\n",
    "$$s_{before} = \\sqrt{s^2} = \\sqrt{0.8142} = 0.9023$$\n",
    "\n",
    "$$s_{after} = \\sqrt{s^2} = \\sqrt{1.1884} = 1.0901$$"
   ]
  },
  {
   "cell_type": "code",
   "execution_count": 9,
   "id": "5f238844",
   "metadata": {},
   "outputs": [
    {
     "name": "stdout",
     "output_type": "stream",
     "text": [
      "11.399999999999999\n",
      "16.638000000000005\n"
     ]
    }
   ],
   "source": [
    "print(np.sum((patient_before_sorted - 8.6)**2))\n",
    "print(np.sum((patient_after_sorted - 7.38)**2))"
   ]
  },
  {
   "cell_type": "markdown",
   "id": "eda01947",
   "metadata": {},
   "source": [
    "##### c) Find the sample covariance between cholesterol measurements of the patients before and after treatment.\n",
    "\n",
    "The formula for the sample covariance are:\n",
    "\n",
    "$$s_{xy} = \\frac{1}{n-1} \\sum^{n}_{i=1}(x_i - \\bar{x})(y_i - \\bar{y})$$\n",
    "\n",
    "We know the mean from exercise b) to be\n",
    "\n",
    "$$\\bar{x} = 8.6$$\n",
    "$$\\bar{y} = 7.38$$\n",
    "\n",
    "Calculating the sum part (do not use sorted set to calculate the sum)\n",
    "\n",
    "$$\\sum^{15}_{i=1}(x_i - 8.6)(y_i - 7.38) = 11.15$$\n",
    "\n",
    "Calculate the covariance\n",
    "\n",
    "$$s_{xy} = \\frac{1}{15 - 1} \\cdot 11.15 = \\frac{11.15}{14} = 0.7964$$\n"
   ]
  },
  {
   "cell_type": "code",
   "execution_count": 10,
   "id": "0f1fbe91",
   "metadata": {},
   "outputs": [
    {
     "name": "stdout",
     "output_type": "stream",
     "text": [
      "0.7964285714285712\n"
     ]
    }
   ],
   "source": [
    "sum = np.sum((patient_before - 8.6) * (patient_after - 7.38))\n",
    "\n",
    "print(sum / 14)"
   ]
  },
  {
   "cell_type": "markdown",
   "id": "eda0ec14",
   "metadata": {},
   "source": [
    "##### d) Find the sample correlation between cholesterol measurements of the patients before and after treatment\n",
    "\n",
    "The formula for sample correlation are (where s_x og s_y are standard deviation for before and after treathment):\n",
    "\n",
    "$$r = \\frac{1}{n-1} \\sum^{n}_{i = 1} (\\frac{x_i - \\bar{x}}{s_x}) (\\frac{y_i - \\bar{y}}{s_y}) = \\frac{s_{xy}}{s_x \\cdot s_y}$$\n",
    "\n",
    "We know the covarance and standard deviation for after and before. Use the formula and we get the following\n",
    "\n",
    "$$r = \\frac{0.7964}{0.9023 \\cdot 1.0901} = 0.8096$$"
   ]
  },
  {
   "cell_type": "code",
   "execution_count": 11,
   "id": "a8f91254",
   "metadata": {},
   "outputs": [
    {
     "data": {
      "text/plain": [
       "0.8096810114034175"
      ]
     },
     "execution_count": 11,
     "metadata": {},
     "output_type": "execute_result"
    }
   ],
   "source": [
    "0.7964 / (0.9023 * 1.0901)"
   ]
  },
  {
   "cell_type": "markdown",
   "id": "02a4fef1",
   "metadata": {},
   "source": [
    "##### e) Compute the 15 differences (Dif = Before − After) and do various sum- mary statistics and plotting of these: sample mean, sample variance, sample standard deviation, boxplot etc.\n",
    "\n",
    "NEED TO COMPLETE\n"
   ]
  },
  {
   "cell_type": "markdown",
   "id": "14c0219a",
   "metadata": {},
   "source": [
    "##### f) Observing such data the big question is whether an average decrease in cholesterol level can be “shown statistically”. How to formally answer this question is presented in Chapter 3, but consider now which summary statistics and/or plots would you look at to have some idea of what the answer will be?\n",
    "\n",
    "NEED TO COMPLETE"
   ]
  }
 ],
 "metadata": {
  "kernelspec": {
   "display_name": "base",
   "language": "python",
   "name": "python3"
  },
  "language_info": {
   "codemirror_mode": {
    "name": "ipython",
    "version": 3
   },
   "file_extension": ".py",
   "mimetype": "text/x-python",
   "name": "python",
   "nbconvert_exporter": "python",
   "pygments_lexer": "ipython3",
   "version": "3.12.11"
  }
 },
 "nbformat": 4,
 "nbformat_minor": 5
}
