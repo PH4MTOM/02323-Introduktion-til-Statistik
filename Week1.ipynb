{
 "cells": [
  {
   "cell_type": "code",
   "execution_count": 70,
   "id": "835d18b1",
   "metadata": {},
   "outputs": [],
   "source": [
    "import dtumathtools, pandas, scipy, statsmodels, uncertainties, math\n",
    "import numpy as np\n",
    "import matplotlib.pyplot as plt"
   ]
  },
  {
   "cell_type": "markdown",
   "id": "3b0ece9d",
   "metadata": {},
   "source": [
    "#### 1.1 - Infant birth weight\n",
    "\n",
    "##### a) - What is the sample mean, variance and standard deviation of the female birth?\n",
    "\n",
    "Sample mean formula:\n",
    "\n",
    "$$\\bar{x} = \\frac{1}{n} \\sum^{n}_{i=1} x_i\n"
   ]
  },
  {
   "cell_type": "code",
   "execution_count": null,
   "id": "3a2e7c30",
   "metadata": {},
   "outputs": [
    {
     "name": "stdout",
     "output_type": "stream",
     "text": [
      "Female Mean: 3361.3\n",
      "Control Female Mean: 3361.3\n"
     ]
    }
   ],
   "source": [
    "# Calculating manual the sample mean\n",
    "female_birth_weight = np.array([2474, 2547, 2830, 3219, 3429, 3448, 3677, 3872, 4001, 4116]),\n",
    "female_sum = female_birth_weight.sum()\n",
    "female_mean = np.divide(female_sum, len(female_birth_weight))\n",
    "\n",
    "print(f'Female Mean: {female_mean}')\n",
    "\n",
    "#Control\n",
    "print(f'Control Female Mean: {np.mean(female_birth_weight)}')"
   ]
  },
  {
   "cell_type": "markdown",
   "id": "87fd7214",
   "metadata": {},
   "source": [
    "Sample variance formula:\n",
    "$$s^2 = \\frac{1}{n-1} \\sum^{n}_{i=1} (x_i - \\bar{x})^2"
   ]
  },
  {
   "cell_type": "code",
   "execution_count": 25,
   "id": "dfb48ac6",
   "metadata": {},
   "outputs": [
    {
     "name": "stdout",
     "output_type": "stream",
     "text": [
      "Female Variance: 344920.4555555556\n",
      "Control Female Variance: 344920.4555555556\n"
     ]
    }
   ],
   "source": [
    "# Calculating manuel the variance formula\n",
    "a = np.sum((female_birth_weight - female_mean)**2)\n",
    "female_variance = np.divide(a, len(female_birth_weight) - 1)\n",
    "\n",
    "print(f'Female Variance: {female_variance}')\n",
    "print(f'Control Female Variance: {np.var(female_birth_weight, ddof=1)}')"
   ]
  },
  {
   "cell_type": "markdown",
   "id": "9af94a94",
   "metadata": {},
   "source": [
    "Standard Deviation Formula:\n",
    "$$ s = \\sqrt{s^2} = \\sqrt{\\frac{1}{n-1} \\sum^{n}_{i=1} (x_i - \\bar{x})^2}"
   ]
  },
  {
   "cell_type": "code",
   "execution_count": 27,
   "id": "388ac7d7",
   "metadata": {},
   "outputs": [
    {
     "name": "stdout",
     "output_type": "stream",
     "text": [
      "Female Standard Deviation: 587.2992895922449\n",
      "Control Female Standard Devision: 587.2992895922449\n"
     ]
    }
   ],
   "source": [
    "# Calculating manuel the standard deviation\n",
    "female_standard_deviation = np.sqrt(female_variance)\n",
    "\n",
    "print(f'Female Standard Deviation: {female_standard_deviation}')\n",
    "print(f'Control Female Standard Devision: {np.std(female_birth_weight, ddof=1)}')"
   ]
  },
  {
   "cell_type": "markdown",
   "id": "47f68dfa",
   "metadata": {},
   "source": [
    "- Express in your own words the story told by these numbers?\n",
    "\n",
    "Answer:\n",
    "\n",
    "We see that the average female birth weight is 3361.3 gram. The high variance at 344920 tell us that the data is spread. The standard deviation at 587.3 tells us that most babies weight fall within 587.3 plus and minus of the mean\n",
    "\n",
    "$$ \\pm 587.3"
   ]
  },
  {
   "cell_type": "markdown",
   "id": "bcc200e8",
   "metadata": {},
   "source": [
    "##### b) - Compute the same summary statistic of the male births. Compare and explain the differences with the results for the female birth\n",
    "\n",
    "I will use the same formulas, so I wont be repeating them"
   ]
  },
  {
   "cell_type": "code",
   "execution_count": null,
   "id": "ce489c60",
   "metadata": {},
   "outputs": [
    {
     "name": "stdout",
     "output_type": "stream",
     "text": [
      "Male Mean: 3475.2\n",
      "Male Variance: 283158.1777777777\n",
      "Male Standard Devision: 532.1260919911537\n",
      "Female Mean: 3361.3\n",
      "Female Variance: 344920.4555555556\n",
      "Female Standard Devision: 587.2992895922449\n"
     ]
    }
   ],
   "source": [
    "male_birth_weight = np.array([2844, 2863, 2963, 3239, 3379, 3449, 3582, 3926, 4151, 4356])\n",
    "\n",
    "male_mean = np.mean(male_birth_weight)\n",
    "male_variance = np.var(male_birth_weight, ddof=1)\n",
    "male_standard_devision =  np.std(male_birth_weight, ddof=1)\n",
    "\n",
    "# Male Values\n",
    "print(f'Male Mean: {male_mean}')\n",
    "print(f'Male Variance: {male_variance}')\n",
    "print(f'Male Standard Deviation: {male_standard_devision}')\n",
    "\n",
    "# Female Values\n",
    "print(f'Female Mean: {female_mean}')\n",
    "print(f'Female Variance: {female_variance}')\n",
    "print(f'Female Standard Deviation: {female_standard_deviation}')"
   ]
  },
  {
   "cell_type": "markdown",
   "id": "e771ceda",
   "metadata": {},
   "source": [
    "The male birth weights are on average a little higher than the female, while the standard deviation is a little smaller."
   ]
  },
  {
   "cell_type": "markdown",
   "id": "fcae5c50",
   "metadata": {},
   "source": [
    "##### C) Find the five quartiles for each sample -- and draw the two box plots with pen and paper (Sorry!)\n",
    "\n",
    "The five quartiles are $$Q_0 = minimum, Q_1 = 25\\%, Q_2 = median, Q_3 = 75\\%, Q_4 = maximum$$\n",
    "\n",
    "Minimum and maximum can we find by looking at the first and last unit in the data. \n",
    "\n",
    "To calculate the Q_1 and Q_3 we can use the following formula:\n",
    "\n",
    "*if pn is an integer*\n",
    "\n",
    "$$q_p = (x_{np} + x_{np+1}) / 2$$\n",
    "\n",
    "*if pn is a non-integer*\n",
    "\n",
    "$$q_p = x_{\\lceil np \\rceil}$$\n",
    "\n",
    "To find Q_2 we use the median formula:\n",
    "\n",
    "*if n is odd the median*\n",
    "\n",
    "$$Q_2 = x_{\\frac{n+1}{2}}$$\n",
    "\n",
    "*if n is even*\n",
    "\n",
    "$$Q_2 = \\frac{x_{\\frac{n}{2}} + x_{\\frac{n+2}{2}}}{2}$$"
   ]
  },
  {
   "cell_type": "code",
   "execution_count": 71,
   "id": "4e33db04",
   "metadata": {},
   "outputs": [
    {
     "name": "stdout",
     "output_type": "stream",
     "text": [
      "Female - Q_0: 2474, Q_1: 2830, Q_2: 3438.5, Q_3: 3872, Q_4: 4116\n",
      "Male - Q_0: 2844, Q_1: 2963, Q_2: 3414.0, Q_3: 3926, Q_4: 4356\n"
     ]
    },
    {
     "data": {
      "image/png": "[encoded data removed]",
      "text/plain": [
       "<Figure size 640x480 with 1 Axes>"
      ]
     },
     "metadata": {},
     "output_type": "display_data"
    }
   ],
   "source": [
    "# Calculating Q_1, Q_2 and Q_3 (manuel with code)\n",
    "\n",
    "female_n = len(female_birth_weight)\n",
    "male_n = len(male_birth_weight)\n",
    "\n",
    "# Finding Q_1 for female\n",
    "female_pn = 0.25 * female_n #2.5 not a integer\n",
    "female_pn = math.ceil(female_pn) # Ceil to 3\n",
    "\n",
    "female_Q_1 = female_birth_weight[female_pn - 1]\n",
    "\n",
    "# Finding Q_2 for female (n_female is even 10) REMEMBER THAT WE INDEX FROM 0. SO THE RESULTS SHOULD BE 5 and 6, BUT I NEED TO APPLY -1\n",
    "female_Q_2 = np.divide(female_birth_weight[5 - 1] + female_birth_weight[6 - 1], 2)\n",
    "\n",
    "# Finding Q_3 for female\n",
    "female_pn = 0.75 * female_n # 7.5 not a integer\n",
    "female_pn = math.ceil(female_pn) # Ceil to 8\n",
    "\n",
    "Q_3_female = female_birth_weight[female_pn - 1]\n",
    "\n",
    "print(f'Female - Q_0: {np.min(female_birth_weight)}, Q_1: {female_Q_1}, Q_2: {female_Q_2}, Q_3: {Q_3_female}, Q_4: {np.max(female_birth_weight)}')\n",
    "\n",
    "# Finding Q_1 for males\n",
    "male_pn = 0.25 * male_n #2.5 not a integer\n",
    "male_pn = math.ceil(male_pn) # Ceil to 3\n",
    "\n",
    "male_Q_1 = male_birth_weight[male_pn - 1]\n",
    "\n",
    "# Finding Q_2 for male (n_male is 10. Thats a even number)\n",
    "male_Q_2 = np.divide(male_birth_weight[5 - 1] + male_birth_weight[6 - 1], 2)\n",
    "\n",
    "# Finding Q_3 for male\n",
    "male_pn = 0.75 * male_n # 7.5 not a integer\n",
    "male_pn = math.ceil(male_pn) # Cetil to 8\n",
    "\n",
    "Q_3_male = male_birth_weight[male_pn - 1]\n",
    "\n",
    "print(f'Male - Q_0: {np.min(male_birth_weight)}, Q_1: {male_Q_1}, Q_2: {male_Q_2}, Q_3: {Q_3_male}, Q_4: {np.max(male_birth_weight)}')\n",
    "\n",
    "# Creating the two default box plots (modified boxplots are the default in plt)\n",
    "plt.boxplot([female_birth_weight, male_birth_weight])\n",
    "plt.title('Modified Box Plots')\n",
    "plt.show()"
   ]
  },
  {
   "cell_type": "markdown",
   "id": "9e2c5313",
   "metadata": {},
   "source": [
    "##### d) Are there any \"extreme\" observations in the two samples (use the modified box plot definition of extremeness)?\n",
    "\n",
    "No. Since we use the standard modified boxplot, we would see the extreme observation beyond the whiskers (minimum and maximum). In this case we see none."
   ]
  },
  {
   "cell_type": "markdown",
   "id": "7caa0c99",
   "metadata": {},
   "source": [
    "##### e) What are the coefficient of variations in the two groups?\n",
    "\n",
    "To find the coefficient of variation of the two groups, we use the following formula:\n",
    "\n",
    "Coefficient of variation:\n",
    "$$CV = \\frac{s}{\\bar{x}}$$\n",
    "\n",
    "$$s\\;(sample\\;standard\\;deviation)$$\n",
    "$$\\bar{x}\\;(sample\\;mean)$$\n"
   ]
  },
  {
   "cell_type": "code",
   "execution_count": 72,
   "id": "fdae71a0",
   "metadata": {},
   "outputs": [
    {
     "name": "stdout",
     "output_type": "stream",
     "text": [
      "Female CV in %: 17.472385374475497\n",
      "Male CV ion %: 15.312099792563124\n"
     ]
    }
   ],
   "source": [
    "# Calculation Coefficient of Variation\n",
    "female_CV = np.divide(female_standard_deviation, female_mean) * 100\n",
    "male_CV = np.divide(male_standard_devision, male_mean) * 100\n",
    "\n",
    "print(f'Female CV in %: {female_CV}')\n",
    "print(f'Male CV ion %: {male_CV}')"
   ]
  },
  {
   "cell_type": "markdown",
   "id": "892482a0",
   "metadata": {},
   "source": [
    "The smaller the coefficent variation the tighter the data is to the mean. In this case we get 17.47% for female and 15.31% for male. "
   ]
  },
  {
   "cell_type": "markdown",
   "id": "bf960163",
   "metadata": {},
   "source": [
    "#### 1.2 - Course Grades\n",
    "\n",
    "##### a) What is the median of the 251 achieved grades?\n",
    "\n",
    "\n",
    "\n"
   ]
  },
  {
   "cell_type": "code",
   "execution_count": null,
   "id": "5bf01a38",
   "metadata": {},
   "outputs": [],
   "source": []
  }
 ],
 "metadata": {
  "kernelspec": {
   "display_name": "base",
   "language": "python",
   "name": "python3"
  },
  "language_info": {
   "codemirror_mode": {
    "name": "ipython",
    "version": 3
   },
   "file_extension": ".py",
   "mimetype": "text/x-python",
   "name": "python",
   "nbconvert_exporter": "python",
   "pygments_lexer": "ipython3",
   "version": "3.12.11"
  }
 },
 "nbformat": 4,
 "nbformat_minor": 5
}
